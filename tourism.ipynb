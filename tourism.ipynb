{
  "nbformat": 4,
  "nbformat_minor": 0,
  "metadata": {
    "colab": {
      "name": "tourism.ipynb",
      "provenance": [],
      "authorship_tag": "ABX9TyMTAppvYaY64FU0GyKgLE5k",
      "include_colab_link": true
    },
    "kernelspec": {
      "name": "python3",
      "display_name": "Python 3"
    },
    "language_info": {
      "name": "python"
    }
  },
  "cells": [
    {
      "cell_type": "markdown",
      "metadata": {
        "id": "view-in-github",
        "colab_type": "text"
      },
      "source": [
        "<a href=\"https://colab.research.google.com/github/zaharco17/lesson-zahar/blob/master/tourism.ipynb\" target=\"_parent\"><img src=\"https://colab.research.google.com/assets/colab-badge.svg\" alt=\"Open In Colab\"/></a>"
      ]
    },
    {
      "cell_type": "markdown",
      "source": [
        "ссылка на файл\n",
        "https://docs.google.com/spreadsheets/d/1djJ7_83oQw4NpXx5jQijSApFBQA2UC9q/edit?usp=sharing&ouid=114494483791878767461&rtpof=true&sd=true\n",
        "\n",
        "путь /content/tourism.xlsx"
      ],
      "metadata": {
        "id": "F6pQ0FsPv9e6"
      }
    },
    {
      "cell_type": "code",
      "execution_count": 1,
      "metadata": {
        "colab": {
          "base_uri": "https://localhost:8080/"
        },
        "id": "KpW1cP7cvQSi",
        "outputId": "95f2906e-4b49-4d67-adff-be09ea7f06e4"
      },
      "outputs": [
        {
          "output_type": "stream",
          "name": "stdout",
          "text": [
            "/usr/local/lib/python3.7/dist-packages/gdown/cli.py:131: FutureWarning: Option `--id` was deprecated in version 4.3.1 and will be removed in 5.0. You don't need to pass it anymore to use a file ID.\n",
            "  category=FutureWarning,\n",
            "Downloading...\n",
            "From: https://drive.google.com/uc?id=1djJ7_83oQw4NpXx5jQijSApFBQA2UC9q\n",
            "To: /content/tourism.xlsx\n",
            "100% 26.1k/26.1k [00:00<00:00, 31.2MB/s]\n"
          ]
        }
      ],
      "source": [
        "! gdown --id 1djJ7_83oQw4NpXx5jQijSApFBQA2UC9q"
      ]
    },
    {
      "cell_type": "code",
      "source": [
        "import matplotlib.pyplot as plt\n",
        "import pandas as pd\n",
        "import numpy as np\n",
        "import seaborn as sns\n",
        "import datetime as dt"
      ],
      "metadata": {
        "id": "czha6Hwsvz95"
      },
      "execution_count": 2,
      "outputs": []
    },
    {
      "cell_type": "code",
      "source": [
        "df = pd.read_excel('/content/tourism.xlsx')"
      ],
      "metadata": {
        "id": "VFv4-ZT1wkyq"
      },
      "execution_count": 3,
      "outputs": []
    },
    {
      "cell_type": "code",
      "source": [
        "#df['product_type'] = df['product_type'].str.strip('product_type ')"
      ],
      "metadata": {
        "id": "t31CWp204Uez"
      },
      "execution_count": 4,
      "outputs": []
    },
    {
      "cell_type": "code",
      "source": [
        "df['country_column'] = df['country_column'].str.strip()"
      ],
      "metadata": {
        "id": "MiG_DUvzxYkB"
      },
      "execution_count": 5,
      "outputs": []
    },
    {
      "cell_type": "code",
      "source": [
        "df19 = df[df['year_column'] == 2019]"
      ],
      "metadata": {
        "id": "UZrXvR8F8TMW"
      },
      "execution_count": 6,
      "outputs": []
    },
    {
      "cell_type": "code",
      "source": [
        "df19['sum'] = df19['12_Month'].sum()"
      ],
      "metadata": {
        "id": "hH6RHiUNxgZ-",
        "colab": {
          "base_uri": "https://localhost:8080/"
        },
        "outputId": "abb4a331-d304-4c4c-af9b-28af725a7814"
      },
      "execution_count": 7,
      "outputs": [
        {
          "output_type": "stream",
          "name": "stderr",
          "text": [
            "/usr/local/lib/python3.7/dist-packages/ipykernel_launcher.py:1: SettingWithCopyWarning: \n",
            "A value is trying to be set on a copy of a slice from a DataFrame.\n",
            "Try using .loc[row_indexer,col_indexer] = value instead\n",
            "\n",
            "See the caveats in the documentation: https://pandas.pydata.org/pandas-docs/stable/user_guide/indexing.html#returning-a-view-versus-a-copy\n",
            "  \"\"\"Entry point for launching an IPython kernel.\n"
          ]
        }
      ]
    },
    {
      "cell_type": "code",
      "source": [
        "df19_country = df19.groupby('country_column').sum()"
      ],
      "metadata": {
        "id": "zajFALYP0WQl"
      },
      "execution_count": 8,
      "outputs": []
    },
    {
      "cell_type": "code",
      "source": [
        "df19_country['dolia'] = df19_country['12_Month']/df19_country['sum']"
      ],
      "metadata": {
        "id": "u7tyvGr89kpJ"
      },
      "execution_count": 9,
      "outputs": []
    },
    {
      "cell_type": "code",
      "source": [
        "df19_country.sort_values('12_Month', ascending = False).head(15)"
      ],
      "metadata": {
        "id": "Sug46fA0-lSJ",
        "colab": {
          "base_uri": "https://localhost:8080/",
          "height": 551
        },
        "outputId": "39a07843-7abb-46d5-b9fd-e3a4599a203d"
      },
      "execution_count": 10,
      "outputs": [
        {
          "output_type": "execute_result",
          "data": {
            "text/plain": [
              "                    year_column  3_Months  6_Months  9_Month  12_Month  \\\n",
              "country_column                                                           \n",
              "Украина                    2019    1420.0    3423.0   5944.0    7760.0   \n",
              "Казахстан                  2019     664.0    1569.0   2716.0    3564.0   \n",
              "Китай                      2019     252.0     780.0   1594.0    1883.0   \n",
              "Азербайджан                2019     197.0     418.0    684.0     911.0   \n",
              "Финляндия                  2019     190.0     430.0    681.0     896.0   \n",
              "Германия                   2019      57.0     270.0    592.0     690.0   \n",
              "Польша                     2019     155.0     323.0    497.0     641.0   \n",
              "Абхазия                    2019     128.0     262.0    435.0     596.0   \n",
              "Армения                    2019     121.0     260.0    420.0     551.0   \n",
              "Эстония                    2019      96.0     232.0    383.0     523.0   \n",
              "Другие страны              2019      69.0     205.0    384.0     505.0   \n",
              "Киргизия                   2019      90.0     198.0    312.0     443.0   \n",
              "Республика Корея           2019      64.0     178.0    356.0     431.0   \n",
              "Монголия                   2019      81.0     181.0    295.0     376.0   \n",
              "Республика Молдова         2019      85.0     189.0    296.0     376.0   \n",
              "\n",
              "                        sum     dolia  \n",
              "country_column                         \n",
              "Украина             24419.0  0.317785  \n",
              "Казахстан           24419.0  0.145952  \n",
              "Китай               24419.0  0.077112  \n",
              "Азербайджан         24419.0  0.037307  \n",
              "Финляндия           24419.0  0.036693  \n",
              "Германия            24419.0  0.028257  \n",
              "Польша              24419.0  0.026250  \n",
              "Абхазия             24419.0  0.024407  \n",
              "Армения             24419.0  0.022564  \n",
              "Эстония             24419.0  0.021418  \n",
              "Другие страны       24419.0  0.020681  \n",
              "Киргизия            24419.0  0.018142  \n",
              "Республика Корея    24419.0  0.017650  \n",
              "Монголия            24419.0  0.015398  \n",
              "Республика Молдова  24419.0  0.015398  "
            ],
            "text/html": [
              "\n",
              "  <div id=\"df-0d4f06ca-3f90-40e8-bf6f-d8e4bf79843d\">\n",
              "    <div class=\"colab-df-container\">\n",
              "      <div>\n",
              "<style scoped>\n",
              "    .dataframe tbody tr th:only-of-type {\n",
              "        vertical-align: middle;\n",
              "    }\n",
              "\n",
              "    .dataframe tbody tr th {\n",
              "        vertical-align: top;\n",
              "    }\n",
              "\n",
              "    .dataframe thead th {\n",
              "        text-align: right;\n",
              "    }\n",
              "</style>\n",
              "<table border=\"1\" class=\"dataframe\">\n",
              "  <thead>\n",
              "    <tr style=\"text-align: right;\">\n",
              "      <th></th>\n",
              "      <th>year_column</th>\n",
              "      <th>3_Months</th>\n",
              "      <th>6_Months</th>\n",
              "      <th>9_Month</th>\n",
              "      <th>12_Month</th>\n",
              "      <th>sum</th>\n",
              "      <th>dolia</th>\n",
              "    </tr>\n",
              "    <tr>\n",
              "      <th>country_column</th>\n",
              "      <th></th>\n",
              "      <th></th>\n",
              "      <th></th>\n",
              "      <th></th>\n",
              "      <th></th>\n",
              "      <th></th>\n",
              "      <th></th>\n",
              "    </tr>\n",
              "  </thead>\n",
              "  <tbody>\n",
              "    <tr>\n",
              "      <th>Украина</th>\n",
              "      <td>2019</td>\n",
              "      <td>1420.0</td>\n",
              "      <td>3423.0</td>\n",
              "      <td>5944.0</td>\n",
              "      <td>7760.0</td>\n",
              "      <td>24419.0</td>\n",
              "      <td>0.317785</td>\n",
              "    </tr>\n",
              "    <tr>\n",
              "      <th>Казахстан</th>\n",
              "      <td>2019</td>\n",
              "      <td>664.0</td>\n",
              "      <td>1569.0</td>\n",
              "      <td>2716.0</td>\n",
              "      <td>3564.0</td>\n",
              "      <td>24419.0</td>\n",
              "      <td>0.145952</td>\n",
              "    </tr>\n",
              "    <tr>\n",
              "      <th>Китай</th>\n",
              "      <td>2019</td>\n",
              "      <td>252.0</td>\n",
              "      <td>780.0</td>\n",
              "      <td>1594.0</td>\n",
              "      <td>1883.0</td>\n",
              "      <td>24419.0</td>\n",
              "      <td>0.077112</td>\n",
              "    </tr>\n",
              "    <tr>\n",
              "      <th>Азербайджан</th>\n",
              "      <td>2019</td>\n",
              "      <td>197.0</td>\n",
              "      <td>418.0</td>\n",
              "      <td>684.0</td>\n",
              "      <td>911.0</td>\n",
              "      <td>24419.0</td>\n",
              "      <td>0.037307</td>\n",
              "    </tr>\n",
              "    <tr>\n",
              "      <th>Финляндия</th>\n",
              "      <td>2019</td>\n",
              "      <td>190.0</td>\n",
              "      <td>430.0</td>\n",
              "      <td>681.0</td>\n",
              "      <td>896.0</td>\n",
              "      <td>24419.0</td>\n",
              "      <td>0.036693</td>\n",
              "    </tr>\n",
              "    <tr>\n",
              "      <th>Германия</th>\n",
              "      <td>2019</td>\n",
              "      <td>57.0</td>\n",
              "      <td>270.0</td>\n",
              "      <td>592.0</td>\n",
              "      <td>690.0</td>\n",
              "      <td>24419.0</td>\n",
              "      <td>0.028257</td>\n",
              "    </tr>\n",
              "    <tr>\n",
              "      <th>Польша</th>\n",
              "      <td>2019</td>\n",
              "      <td>155.0</td>\n",
              "      <td>323.0</td>\n",
              "      <td>497.0</td>\n",
              "      <td>641.0</td>\n",
              "      <td>24419.0</td>\n",
              "      <td>0.026250</td>\n",
              "    </tr>\n",
              "    <tr>\n",
              "      <th>Абхазия</th>\n",
              "      <td>2019</td>\n",
              "      <td>128.0</td>\n",
              "      <td>262.0</td>\n",
              "      <td>435.0</td>\n",
              "      <td>596.0</td>\n",
              "      <td>24419.0</td>\n",
              "      <td>0.024407</td>\n",
              "    </tr>\n",
              "    <tr>\n",
              "      <th>Армения</th>\n",
              "      <td>2019</td>\n",
              "      <td>121.0</td>\n",
              "      <td>260.0</td>\n",
              "      <td>420.0</td>\n",
              "      <td>551.0</td>\n",
              "      <td>24419.0</td>\n",
              "      <td>0.022564</td>\n",
              "    </tr>\n",
              "    <tr>\n",
              "      <th>Эстония</th>\n",
              "      <td>2019</td>\n",
              "      <td>96.0</td>\n",
              "      <td>232.0</td>\n",
              "      <td>383.0</td>\n",
              "      <td>523.0</td>\n",
              "      <td>24419.0</td>\n",
              "      <td>0.021418</td>\n",
              "    </tr>\n",
              "    <tr>\n",
              "      <th>Другие страны</th>\n",
              "      <td>2019</td>\n",
              "      <td>69.0</td>\n",
              "      <td>205.0</td>\n",
              "      <td>384.0</td>\n",
              "      <td>505.0</td>\n",
              "      <td>24419.0</td>\n",
              "      <td>0.020681</td>\n",
              "    </tr>\n",
              "    <tr>\n",
              "      <th>Киргизия</th>\n",
              "      <td>2019</td>\n",
              "      <td>90.0</td>\n",
              "      <td>198.0</td>\n",
              "      <td>312.0</td>\n",
              "      <td>443.0</td>\n",
              "      <td>24419.0</td>\n",
              "      <td>0.018142</td>\n",
              "    </tr>\n",
              "    <tr>\n",
              "      <th>Республика Корея</th>\n",
              "      <td>2019</td>\n",
              "      <td>64.0</td>\n",
              "      <td>178.0</td>\n",
              "      <td>356.0</td>\n",
              "      <td>431.0</td>\n",
              "      <td>24419.0</td>\n",
              "      <td>0.017650</td>\n",
              "    </tr>\n",
              "    <tr>\n",
              "      <th>Монголия</th>\n",
              "      <td>2019</td>\n",
              "      <td>81.0</td>\n",
              "      <td>181.0</td>\n",
              "      <td>295.0</td>\n",
              "      <td>376.0</td>\n",
              "      <td>24419.0</td>\n",
              "      <td>0.015398</td>\n",
              "    </tr>\n",
              "    <tr>\n",
              "      <th>Республика Молдова</th>\n",
              "      <td>2019</td>\n",
              "      <td>85.0</td>\n",
              "      <td>189.0</td>\n",
              "      <td>296.0</td>\n",
              "      <td>376.0</td>\n",
              "      <td>24419.0</td>\n",
              "      <td>0.015398</td>\n",
              "    </tr>\n",
              "  </tbody>\n",
              "</table>\n",
              "</div>\n",
              "      <button class=\"colab-df-convert\" onclick=\"convertToInteractive('df-0d4f06ca-3f90-40e8-bf6f-d8e4bf79843d')\"\n",
              "              title=\"Convert this dataframe to an interactive table.\"\n",
              "              style=\"display:none;\">\n",
              "        \n",
              "  <svg xmlns=\"http://www.w3.org/2000/svg\" height=\"24px\"viewBox=\"0 0 24 24\"\n",
              "       width=\"24px\">\n",
              "    <path d=\"M0 0h24v24H0V0z\" fill=\"none\"/>\n",
              "    <path d=\"M18.56 5.44l.94 2.06.94-2.06 2.06-.94-2.06-.94-.94-2.06-.94 2.06-2.06.94zm-11 1L8.5 8.5l.94-2.06 2.06-.94-2.06-.94L8.5 2.5l-.94 2.06-2.06.94zm10 10l.94 2.06.94-2.06 2.06-.94-2.06-.94-.94-2.06-.94 2.06-2.06.94z\"/><path d=\"M17.41 7.96l-1.37-1.37c-.4-.4-.92-.59-1.43-.59-.52 0-1.04.2-1.43.59L10.3 9.45l-7.72 7.72c-.78.78-.78 2.05 0 2.83L4 21.41c.39.39.9.59 1.41.59.51 0 1.02-.2 1.41-.59l7.78-7.78 2.81-2.81c.8-.78.8-2.07 0-2.86zM5.41 20L4 18.59l7.72-7.72 1.47 1.35L5.41 20z\"/>\n",
              "  </svg>\n",
              "      </button>\n",
              "      \n",
              "  <style>\n",
              "    .colab-df-container {\n",
              "      display:flex;\n",
              "      flex-wrap:wrap;\n",
              "      gap: 12px;\n",
              "    }\n",
              "\n",
              "    .colab-df-convert {\n",
              "      background-color: #E8F0FE;\n",
              "      border: none;\n",
              "      border-radius: 50%;\n",
              "      cursor: pointer;\n",
              "      display: none;\n",
              "      fill: #1967D2;\n",
              "      height: 32px;\n",
              "      padding: 0 0 0 0;\n",
              "      width: 32px;\n",
              "    }\n",
              "\n",
              "    .colab-df-convert:hover {\n",
              "      background-color: #E2EBFA;\n",
              "      box-shadow: 0px 1px 2px rgba(60, 64, 67, 0.3), 0px 1px 3px 1px rgba(60, 64, 67, 0.15);\n",
              "      fill: #174EA6;\n",
              "    }\n",
              "\n",
              "    [theme=dark] .colab-df-convert {\n",
              "      background-color: #3B4455;\n",
              "      fill: #D2E3FC;\n",
              "    }\n",
              "\n",
              "    [theme=dark] .colab-df-convert:hover {\n",
              "      background-color: #434B5C;\n",
              "      box-shadow: 0px 1px 3px 1px rgba(0, 0, 0, 0.15);\n",
              "      filter: drop-shadow(0px 1px 2px rgba(0, 0, 0, 0.3));\n",
              "      fill: #FFFFFF;\n",
              "    }\n",
              "  </style>\n",
              "\n",
              "      <script>\n",
              "        const buttonEl =\n",
              "          document.querySelector('#df-0d4f06ca-3f90-40e8-bf6f-d8e4bf79843d button.colab-df-convert');\n",
              "        buttonEl.style.display =\n",
              "          google.colab.kernel.accessAllowed ? 'block' : 'none';\n",
              "\n",
              "        async function convertToInteractive(key) {\n",
              "          const element = document.querySelector('#df-0d4f06ca-3f90-40e8-bf6f-d8e4bf79843d');\n",
              "          const dataTable =\n",
              "            await google.colab.kernel.invokeFunction('convertToInteractive',\n",
              "                                                     [key], {});\n",
              "          if (!dataTable) return;\n",
              "\n",
              "          const docLinkHtml = 'Like what you see? Visit the ' +\n",
              "            '<a target=\"_blank\" href=https://colab.research.google.com/notebooks/data_table.ipynb>data table notebook</a>'\n",
              "            + ' to learn more about interactive tables.';\n",
              "          element.innerHTML = '';\n",
              "          dataTable['output_type'] = 'display_data';\n",
              "          await google.colab.output.renderOutput(dataTable, element);\n",
              "          const docLink = document.createElement('div');\n",
              "          docLink.innerHTML = docLinkHtml;\n",
              "          element.appendChild(docLink);\n",
              "        }\n",
              "      </script>\n",
              "    </div>\n",
              "  </div>\n",
              "  "
            ]
          },
          "metadata": {},
          "execution_count": 10
        }
      ]
    }
  ]
}